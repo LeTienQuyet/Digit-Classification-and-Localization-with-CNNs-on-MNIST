{
 "cells": [
  {
   "cell_type": "code",
   "execution_count": 1,
   "metadata": {
    "_cell_guid": "b1076dfc-b9ad-4769-8c92-a6c4dae69d19",
    "_uuid": "8f2839f25d086af736a60e9eeb907d3b93b6e0e5",
    "execution": {
     "iopub.execute_input": "2024-11-17T12:44:51.796943Z",
     "iopub.status.busy": "2024-11-17T12:44:51.796301Z",
     "iopub.status.idle": "2024-11-17T12:44:57.200272Z",
     "shell.execute_reply": "2024-11-17T12:44:57.199345Z",
     "shell.execute_reply.started": "2024-11-17T12:44:51.796896Z"
    },
    "trusted": true
   },
   "outputs": [],
   "source": [
    "from PIL import Image\n",
    "from sklearn.model_selection import train_test_split\n",
    "from torch.utils.data import Dataset, DataLoader\n",
    "from tqdm import tqdm\n",
    "\n",
    "import os\n",
    "import matplotlib.pyplot as plt\n",
    "import torch\n",
    "import torch.nn as nn\n",
    "import torchvision.transforms as transforms\n",
    "import torch.nn.functional as F\n",
    "import pandas as pd\n",
    "import torch.optim as optim"
   ]
  },
  {
   "cell_type": "code",
   "execution_count": 4,
   "metadata": {
    "execution": {
     "iopub.execute_input": "2024-11-17T12:47:16.111390Z",
     "iopub.status.busy": "2024-11-17T12:47:16.110526Z",
     "iopub.status.idle": "2024-11-17T12:47:16.246353Z",
     "shell.execute_reply": "2024-11-17T12:47:16.245540Z",
     "shell.execute_reply.started": "2024-11-17T12:47:16.111349Z"
    },
    "trusted": true
   },
   "outputs": [],
   "source": [
    "path_to_dir = \"/kaggle/input/enlarged-mnist-data-with-bounding-boxes/mnist_img_with_bb/mnist_img_with_bb\"\n",
    "path_to_csv_file = \"/kaggle/input/enlarged-mnist-data-with-bounding-boxes/mnist_img_enlarged_bb.csv\"\n",
    "\n",
    "df = pd.read_csv(path_to_csv_file)"
   ]
  },
  {
   "cell_type": "code",
   "execution_count": 5,
   "metadata": {
    "execution": {
     "iopub.execute_input": "2024-11-17T12:47:16.716581Z",
     "iopub.status.busy": "2024-11-17T12:47:16.715758Z",
     "iopub.status.idle": "2024-11-17T12:47:16.736880Z",
     "shell.execute_reply": "2024-11-17T12:47:16.735964Z",
     "shell.execute_reply.started": "2024-11-17T12:47:16.716532Z"
    },
    "trusted": true
   },
   "outputs": [
    {
     "data": {
      "text/html": [
       "<div>\n",
       "<style scoped>\n",
       "    .dataframe tbody tr th:only-of-type {\n",
       "        vertical-align: middle;\n",
       "    }\n",
       "\n",
       "    .dataframe tbody tr th {\n",
       "        vertical-align: top;\n",
       "    }\n",
       "\n",
       "    .dataframe thead th {\n",
       "        text-align: right;\n",
       "    }\n",
       "</style>\n",
       "<table border=\"1\" class=\"dataframe\">\n",
       "  <thead>\n",
       "    <tr style=\"text-align: right;\">\n",
       "      <th></th>\n",
       "      <th>Unnamed: 0</th>\n",
       "      <th>name</th>\n",
       "      <th>target_label</th>\n",
       "      <th>height</th>\n",
       "      <th>width</th>\n",
       "      <th>x_min</th>\n",
       "      <th>x_max</th>\n",
       "      <th>y_min</th>\n",
       "      <th>y_max</th>\n",
       "    </tr>\n",
       "  </thead>\n",
       "  <tbody>\n",
       "    <tr>\n",
       "      <th>0</th>\n",
       "      <td>0</td>\n",
       "      <td>5_0.png</td>\n",
       "      <td>5</td>\n",
       "      <td>28</td>\n",
       "      <td>28</td>\n",
       "      <td>18</td>\n",
       "      <td>46</td>\n",
       "      <td>18</td>\n",
       "      <td>46</td>\n",
       "    </tr>\n",
       "    <tr>\n",
       "      <th>1</th>\n",
       "      <td>1</td>\n",
       "      <td>0_1.png</td>\n",
       "      <td>0</td>\n",
       "      <td>28</td>\n",
       "      <td>28</td>\n",
       "      <td>37</td>\n",
       "      <td>65</td>\n",
       "      <td>37</td>\n",
       "      <td>65</td>\n",
       "    </tr>\n",
       "    <tr>\n",
       "      <th>2</th>\n",
       "      <td>2</td>\n",
       "      <td>4_2.png</td>\n",
       "      <td>4</td>\n",
       "      <td>28</td>\n",
       "      <td>28</td>\n",
       "      <td>15</td>\n",
       "      <td>43</td>\n",
       "      <td>15</td>\n",
       "      <td>43</td>\n",
       "    </tr>\n",
       "    <tr>\n",
       "      <th>3</th>\n",
       "      <td>3</td>\n",
       "      <td>1_3.png</td>\n",
       "      <td>1</td>\n",
       "      <td>28</td>\n",
       "      <td>28</td>\n",
       "      <td>38</td>\n",
       "      <td>66</td>\n",
       "      <td>38</td>\n",
       "      <td>66</td>\n",
       "    </tr>\n",
       "    <tr>\n",
       "      <th>4</th>\n",
       "      <td>4</td>\n",
       "      <td>9_4.png</td>\n",
       "      <td>9</td>\n",
       "      <td>28</td>\n",
       "      <td>28</td>\n",
       "      <td>42</td>\n",
       "      <td>70</td>\n",
       "      <td>42</td>\n",
       "      <td>70</td>\n",
       "    </tr>\n",
       "  </tbody>\n",
       "</table>\n",
       "</div>"
      ],
      "text/plain": [
       "   Unnamed: 0     name  target_label  height  width  x_min  x_max  y_min  \\\n",
       "0           0  5_0.png             5      28     28     18     46     18   \n",
       "1           1  0_1.png             0      28     28     37     65     37   \n",
       "2           2  4_2.png             4      28     28     15     43     15   \n",
       "3           3  1_3.png             1      28     28     38     66     38   \n",
       "4           4  9_4.png             9      28     28     42     70     42   \n",
       "\n",
       "   y_max  \n",
       "0     46  \n",
       "1     65  \n",
       "2     43  \n",
       "3     66  \n",
       "4     70  "
      ]
     },
     "execution_count": 5,
     "metadata": {},
     "output_type": "execute_result"
    }
   ],
   "source": [
    "df.head()"
   ]
  },
  {
   "cell_type": "code",
   "execution_count": 6,
   "metadata": {
    "execution": {
     "iopub.execute_input": "2024-11-17T12:47:19.364947Z",
     "iopub.status.busy": "2024-11-17T12:47:19.364255Z",
     "iopub.status.idle": "2024-11-17T12:47:19.396047Z",
     "shell.execute_reply": "2024-11-17T12:47:19.394987Z",
     "shell.execute_reply.started": "2024-11-17T12:47:19.364906Z"
    },
    "trusted": true
   },
   "outputs": [
    {
     "name": "stdout",
     "output_type": "stream",
     "text": [
      "42000 14000 14000\n"
     ]
    }
   ],
   "source": [
    "train_data_df, test_data_df = train_test_split(df, test_size=0.2, random_state=42)\n",
    "train_data_df, val_data_df = train_test_split(train_data_df, test_size=0.25, random_state=42)\n",
    "\n",
    "print(len(train_data_df), len(val_data_df), len(test_data_df))"
   ]
  },
  {
   "cell_type": "code",
   "execution_count": 7,
   "metadata": {
    "execution": {
     "iopub.execute_input": "2024-11-17T12:47:20.838555Z",
     "iopub.status.busy": "2024-11-17T12:47:20.837925Z",
     "iopub.status.idle": "2024-11-17T12:47:21.113712Z",
     "shell.execute_reply": "2024-11-17T12:47:21.112724Z",
     "shell.execute_reply.started": "2024-11-17T12:47:20.838507Z"
    },
    "trusted": true
   },
   "outputs": [
    {
     "data": {
      "image/png": "[encoded data removed]",
      "text/plain": [
       "<Figure size 640x480 with 1 Axes>"
      ]
     },
     "metadata": {},
     "output_type": "display_data"
    }
   ],
   "source": [
    "path_img = os.path.join(path_to_dir, \"0\", \"0_1.png\")\n",
    "img = Image.open(path_img)\n",
    "plt.imshow(img, cmap=\"gray\")\n",
    "plt.show()"
   ]
  },
  {
   "cell_type": "code",
   "execution_count": 8,
   "metadata": {
    "execution": {
     "iopub.execute_input": "2024-11-17T12:47:23.549719Z",
     "iopub.status.busy": "2024-11-17T12:47:23.548871Z",
     "iopub.status.idle": "2024-11-17T12:47:23.557257Z",
     "shell.execute_reply": "2024-11-17T12:47:23.556294Z",
     "shell.execute_reply.started": "2024-11-17T12:47:23.549678Z"
    },
    "trusted": true
   },
   "outputs": [],
   "source": [
    "class CustomDataset(Dataset):\n",
    "    def __init__(self, path_to_dir, data, transform=None):\n",
    "        super(CustomDataset, self).__init__()\n",
    "        self.path_to_dir = path_to_dir\n",
    "        self.data = data\n",
    "        self.transform = transform\n",
    "\n",
    "    def __len__(self):\n",
    "        return len(self.data)\n",
    "\n",
    "    def __getitem__(self, idx):\n",
    "        _, img_name, label, h, w, x, _, y, _ = self.data.iloc[idx]\n",
    "        img_name = os.path.join(self.path_to_dir, str(label), img_name)\n",
    "        img = Image.open(img_name)\n",
    "        bbox = torch.tensor([x, y, w, h], dtype=torch.float32)\n",
    "\n",
    "        if self.transform is not None:\n",
    "            img = self.transform(img)\n",
    "        return img, label, bbox"
   ]
  },
  {
   "cell_type": "code",
   "execution_count": 9,
   "metadata": {
    "execution": {
     "iopub.execute_input": "2024-11-17T12:47:24.725843Z",
     "iopub.status.busy": "2024-11-17T12:47:24.725110Z",
     "iopub.status.idle": "2024-11-17T12:47:24.731722Z",
     "shell.execute_reply": "2024-11-17T12:47:24.730813Z",
     "shell.execute_reply.started": "2024-11-17T12:47:24.725802Z"
    },
    "trusted": true
   },
   "outputs": [],
   "source": [
    "def prepare_data(path_to_dir, train_data, val_data, test_data, transform, batch_size=256):\n",
    "    train_dataset = CustomDataset(path_to_dir, train_data, transform)\n",
    "    val_dataset = CustomDataset(path_to_dir, val_data, transform)\n",
    "    test_dataset = CustomDataset(path_to_dir, test_data, transform)\n",
    "\n",
    "    train_dataloader = DataLoader(train_dataset, batch_size=batch_size, shuffle=True)\n",
    "    val_dataloader = DataLoader(val_dataset, batch_size=batch_size, shuffle=False)\n",
    "    test_dataloader = DataLoader(test_dataset, batch_size=batch_size, shuffle=False)\n",
    "    return train_dataloader, val_dataloader, test_dataloader"
   ]
  },
  {
   "cell_type": "code",
   "execution_count": 10,
   "metadata": {
    "execution": {
     "iopub.execute_input": "2024-11-17T12:47:26.039177Z",
     "iopub.status.busy": "2024-11-17T12:47:26.038828Z",
     "iopub.status.idle": "2024-11-17T12:47:26.044400Z",
     "shell.execute_reply": "2024-11-17T12:47:26.043487Z",
     "shell.execute_reply.started": "2024-11-17T12:47:26.039142Z"
    },
    "trusted": true
   },
   "outputs": [],
   "source": [
    "transform = transforms.Compose([\n",
    "    transforms.ToTensor()\n",
    "])\n",
    "train_dataloader, val_dataloader, test_dataloader = prepare_data(path_to_dir, train_data_df, val_data_df, test_data_df, transform)"
   ]
  },
  {
   "cell_type": "code",
   "execution_count": 11,
   "metadata": {
    "execution": {
     "iopub.execute_input": "2024-11-17T12:47:27.231015Z",
     "iopub.status.busy": "2024-11-17T12:47:27.230289Z",
     "iopub.status.idle": "2024-11-17T12:47:27.242982Z",
     "shell.execute_reply": "2024-11-17T12:47:27.241941Z",
     "shell.execute_reply.started": "2024-11-17T12:47:27.230976Z"
    },
    "trusted": true
   },
   "outputs": [],
   "source": [
    "class CustomNeuralNetwork(nn.Module):\n",
    "    def __init__(self, out_channels):\n",
    "        super(CustomNeuralNetwork, self).__init__()\n",
    "        self.conv1 = nn.Conv2d(in_channels=1, out_channels=8, kernel_size=3, padding=1)\n",
    "        self.conv2 = nn.Conv2d(in_channels=8, out_channels=16, kernel_size=3)\n",
    "        self.conv3 = nn.Conv2d(in_channels=16, out_channels=32, kernel_size=3)\n",
    "        self.conv4 = nn.Conv2d(in_channels=32, out_channels=64, kernel_size=3, padding=1)\n",
    "\n",
    "        self.max_pooling1 = nn.MaxPool2d(kernel_size=2, stride=2)\n",
    "        self.max_pooling2 = nn.MaxPool2d(kernel_size=4, stride=4)\n",
    "\n",
    "        self.batch_norm1 = nn.BatchNorm2d(num_features=16)\n",
    "        self.batch_norm2 = nn.BatchNorm2d(num_features=64)\n",
    "\n",
    "        self.fc1 = nn.Linear(in_features=64*8*8, out_features=1024)\n",
    "        self.fc2 = nn.Linear(in_features=1024, out_features=512)\n",
    "        self.fc3 = nn.Linear(in_features=512, out_features=128)\n",
    "        \n",
    "        self.classification_head = nn.Linear(in_features=128, out_features=out_channels)\n",
    "        self.bbox_head = nn.Linear(in_features=128, out_features=4)\n",
    "        \n",
    "\n",
    "    def forward(self, x):\n",
    "        x = self.conv2(self.conv1(x))\n",
    "        x = self.batch_norm1(self.max_pooling1(x))\n",
    "        x = F.relu(x)\n",
    "        x = self.conv4(self.conv3(x))\n",
    "        x = self.batch_norm2(self.max_pooling2(x))\n",
    "        x = F.relu(x)\n",
    "        x = x.view(x.size(0), -1)\n",
    "        x = F.relu(self.fc1(x))\n",
    "        x = F.relu(self.fc2(x))\n",
    "        x = F.relu(self.fc3(x))\n",
    "\n",
    "        class_logits = self.classification_head(x)\n",
    "        bbox_coords = self.bbox_head(x)\n",
    "        return class_logits, bbox_coords"
   ]
  },
  {
   "cell_type": "code",
   "execution_count": 12,
   "metadata": {
    "execution": {
     "iopub.execute_input": "2024-11-17T12:47:28.718476Z",
     "iopub.status.busy": "2024-11-17T12:47:28.717612Z",
     "iopub.status.idle": "2024-11-17T12:47:28.759133Z",
     "shell.execute_reply": "2024-11-17T12:47:28.758001Z",
     "shell.execute_reply.started": "2024-11-17T12:47:28.718420Z"
    },
    "trusted": true
   },
   "outputs": [
    {
     "name": "stdout",
     "output_type": "stream",
     "text": [
      "cuda\n"
     ]
    }
   ],
   "source": [
    "device = torch.device(\"cuda\" if torch.cuda.is_available() else \"cpu\")\n",
    "print(device)"
   ]
  },
  {
   "cell_type": "code",
   "execution_count": 48,
   "metadata": {
    "execution": {
     "iopub.execute_input": "2024-11-17T13:32:52.826489Z",
     "iopub.status.busy": "2024-11-17T13:32:52.826098Z",
     "iopub.status.idle": "2024-11-17T13:32:52.867712Z",
     "shell.execute_reply": "2024-11-17T13:32:52.866869Z",
     "shell.execute_reply.started": "2024-11-17T13:32:52.826452Z"
    },
    "trusted": true
   },
   "outputs": [
    {
     "name": "stdout",
     "output_type": "stream",
     "text": [
      "out_channels = 10\n"
     ]
    }
   ],
   "source": [
    "out_channels = len(df[\"target_label\"].unique())\n",
    "print(f\"out_channels = {out_channels}\")\n",
    "model = CustomNeuralNetwork(out_channels)\n",
    "\n",
    "optimizer = optim.Adam(model.parameters(), lr=1e-4)\n",
    "\n",
    "classify_loss_fn = nn.CrossEntropyLoss()\n",
    "regression_loss_fn = nn.MSELoss()"
   ]
  },
  {
   "cell_type": "code",
   "execution_count": 49,
   "metadata": {
    "execution": {
     "iopub.execute_input": "2024-11-17T13:32:53.428794Z",
     "iopub.status.busy": "2024-11-17T13:32:53.428119Z",
     "iopub.status.idle": "2024-11-17T13:32:53.435021Z",
     "shell.execute_reply": "2024-11-17T13:32:53.434115Z",
     "shell.execute_reply.started": "2024-11-17T13:32:53.428757Z"
    },
    "trusted": true
   },
   "outputs": [],
   "source": [
    "def val_model(model, val_dataloader, classify_loss_fn, regression_loss_fn, optimizer, device):\n",
    "    model.eval()\n",
    "    model.to(device)\n",
    "    total_val_loss = 0\n",
    "\n",
    "    with torch.no_grad():\n",
    "        for (img, label_target, bbox_target) in val_dataloader:\n",
    "            img, label_target, bbox_target = img.to(device), label_target.to(device), bbox_target.to(device)\n",
    "            \n",
    "            label_out, bbox_out = model(img)\n",
    "            classify_loss = classify_loss_fn(label_out, label_target)\n",
    "            bbox_loss = regression_loss_fn(bbox_out, bbox_target)\n",
    "            loss = classify_loss + bbox_loss\n",
    "            total_val_loss += loss.item()\n",
    "    return total_val_loss"
   ]
  },
  {
   "cell_type": "code",
   "execution_count": 50,
   "metadata": {
    "execution": {
     "iopub.execute_input": "2024-11-17T13:32:54.373721Z",
     "iopub.status.busy": "2024-11-17T13:32:54.373303Z",
     "iopub.status.idle": "2024-11-17T13:32:54.386336Z",
     "shell.execute_reply": "2024-11-17T13:32:54.385162Z",
     "shell.execute_reply.started": "2024-11-17T13:32:54.373682Z"
    },
    "trusted": true
   },
   "outputs": [],
   "source": [
    "def train_model(num_epochs, model, train_dataloader, val_dataloader, classify_loss_fn, regression_loss_fn, optimizer, device, path_to_save):\n",
    "    model.train()\n",
    "    model.to(device)\n",
    "    train_losses = []\n",
    "    val_losses = []\n",
    "    min_loss = float(\"inf\")\n",
    "    \n",
    "    for epoch in range(num_epochs):\n",
    "        total_train_loss = 0\n",
    "        for (img, label_target, bbox_target) in tqdm(train_dataloader, desc=f\"Epoch {epoch+1}\", unit=\"batch\", colour=\"RED\"):\n",
    "            img, label_target, bbox_target = img.to(device), label_target.to(device), bbox_target.to(device)\n",
    "\n",
    "            optimizer.zero_grad()\n",
    "            \n",
    "            label_out, bbox_out = model(img)\n",
    "            classify_loss = classify_loss_fn(label_out, label_target)\n",
    "            bbox_loss = regression_loss_fn(bbox_out, bbox_target)\n",
    "            loss = classify_loss + bbox_loss\n",
    "            \n",
    "            loss.backward()\n",
    "            optimizer.step()\n",
    "\n",
    "            total_train_loss += loss.item()\n",
    "        train_losses.append(total_train_loss)\n",
    "        \n",
    "        total_val_loss = val_model(model, val_dataloader, classify_loss_fn, regression_loss_fn, optimizer, device)\n",
    "        val_losses.append(total_val_loss)\n",
    "\n",
    "        if total_val_loss < min_loss:\n",
    "            min_loss = total_val_loss\n",
    "            torch.save(model.state_dict(), os.path.join(path_to_save, \"best_model.pt\"))\n",
    "            \n",
    "        torch.save(model.state_dict(), os.path.join(path_to_save, \"last_model.pt\"))\n",
    "        print(f\"train_loss = {total_train_loss:.5f}, val_loss = {total_val_loss:.5f}\\n\")   \n",
    "    epochs = range(1, num_epochs + 1)\n",
    "\n",
    "    plt.figure(figsize=(10, 5))\n",
    "    plt.plot(epochs, train_losses, label='Train Loss', marker='o')\n",
    "    plt.plot(epochs, val_losses, label='Validation Loss', marker='o')\n",
    "    plt.title('Train and Validation Loss')\n",
    "    plt.xlabel('Epochs')\n",
    "    plt.ylabel('Loss')\n",
    "    plt.legend()\n",
    "    plt.grid()\n",
    "    plt.savefig(os.path.join(path_to_save, \"train_val_loss.png\"), dpi=300, bbox_inches='tight')\n",
    "    plt.show()"
   ]
  },
  {
   "cell_type": "code",
   "execution_count": null,
   "metadata": {
    "collapsed": true,
    "execution": {
     "iopub.execute_input": "2024-11-17T13:32:56.152008Z",
     "iopub.status.busy": "2024-11-17T13:32:56.151509Z",
     "iopub.status.idle": "2024-11-17T14:16:57.340653Z",
     "shell.execute_reply": "2024-11-17T14:16:57.339596Z",
     "shell.execute_reply.started": "2024-11-17T13:32:56.151966Z"
    },
    "jupyter": {
     "outputs_hidden": true
    },
    "trusted": true
   },
   "outputs": [],
   "source": [
    "train_model(30, model, train_dataloader, val_dataloader, classify_loss_fn, regression_loss_fn, optimizer, device, path_to_save=\"/kaggle/working/\")"
   ]
  },
  {
   "cell_type": "code",
   "execution_count": 53,
   "metadata": {
    "collapsed": true,
    "execution": {
     "iopub.execute_input": "2024-11-17T14:48:53.730310Z",
     "iopub.status.busy": "2024-11-17T14:48:53.729471Z",
     "iopub.status.idle": "2024-11-17T14:48:53.810236Z",
     "shell.execute_reply": "2024-11-17T14:48:53.809254Z",
     "shell.execute_reply.started": "2024-11-17T14:48:53.730271Z"
    },
    "jupyter": {
     "outputs_hidden": true
    },
    "trusted": true
   },
   "outputs": [
    {
     "name": "stderr",
     "output_type": "stream",
     "text": [
      "/tmp/ipykernel_30/410489010.py:3: FutureWarning: You are using `torch.load` with `weights_only=False` (the current default value), which uses the default pickle module implicitly. It is possible to construct malicious pickle data which will execute arbitrary code during unpickling (See https://github.com/pytorch/pytorch/blob/main/SECURITY.md#untrusted-models for more details). In a future release, the default value for `weights_only` will be flipped to `True`. This limits the functions that could be executed during unpickling. Arbitrary objects will no longer be allowed to be loaded via this mode unless they are explicitly allowlisted by the user via `torch.serialization.add_safe_globals`. We recommend you start setting `weights_only=True` for any use case where you don't have full control of the loaded file. Please open an issue on GitHub for any issues related to this experimental feature.\n",
      "  best_model.load_state_dict(torch.load(os.path.join(path_to_save, \"best_model.pt\"),  map_location=device))\n"
     ]
    },
    {
     "data": {
      "text/plain": [
       "<All keys matched successfully>"
      ]
     },
     "execution_count": 53,
     "metadata": {},
     "output_type": "execute_result"
    }
   ],
   "source": [
    "best_model = CustomNeuralNetwork(out_channels)\n",
    "path_to_save = \"/kaggle/working/\"\n",
    "best_model.load_state_dict(torch.load(os.path.join(path_to_save, \"best_model.pt\"),  map_location=device))"
   ]
  },
  {
   "cell_type": "code",
   "execution_count": 64,
   "metadata": {
    "execution": {
     "iopub.execute_input": "2024-11-17T14:57:22.175955Z",
     "iopub.status.busy": "2024-11-17T14:57:22.175525Z",
     "iopub.status.idle": "2024-11-17T14:57:22.185504Z",
     "shell.execute_reply": "2024-11-17T14:57:22.184582Z",
     "shell.execute_reply.started": "2024-11-17T14:57:22.175913Z"
    },
    "trusted": true
   },
   "outputs": [],
   "source": [
    "def convert_to_corner(bbox):\n",
    "    xmin = bbox[:, 0]\n",
    "    ymin = bbox[:, 1]\n",
    "    xmax = xmin + bbox[:, 2]\n",
    "    ymax = ymin + bbox[:, 3]\n",
    "    return torch.stack([xmin, ymin, xmax, ymax], dim=1)\n",
    "    \n",
    "def compute_IoU(box1, box2):\n",
    "    x1 = torch.max(box1[:, 0], box2[:, 0])\n",
    "    y1 = torch.max(box1[:, 1], box2[:, 1])\n",
    "    x2 = torch.min(box1[:, 2], box2[:, 2])\n",
    "    y2 = torch.min(box1[:, 3], box2[:, 3])\n",
    "\n",
    "    intersection = torch.clamp(x2 - x1, min=0) * torch.clamp(y2 - y1, min=0)\n",
    "    area1 = (box1[:, 2] - box1[:, 0]) * (box1[:, 3] - box1[:, 1])\n",
    "    area2 = (box2[:, 2] - box2[:, 0]) * (box2[:, 3] - box2[:, 1])\n",
    "    union = area1 + area2 - intersection\n",
    "\n",
    "    return intersection / torch.clamp(union, min=1e-6)"
   ]
  },
  {
   "cell_type": "code",
   "execution_count": 86,
   "metadata": {
    "execution": {
     "iopub.execute_input": "2024-11-17T15:29:14.228018Z",
     "iopub.status.busy": "2024-11-17T15:29:14.227593Z",
     "iopub.status.idle": "2024-11-17T15:29:14.236963Z",
     "shell.execute_reply": "2024-11-17T15:29:14.235909Z",
     "shell.execute_reply.started": "2024-11-17T15:29:14.227980Z"
    },
    "trusted": true
   },
   "outputs": [],
   "source": [
    "def get_accuracy(model, val_dataloader, device, iou_threshold=0.5):\n",
    "    model.eval()\n",
    "    model.to(device)\n",
    "    TP, FP, FN = 0, 0, 0\n",
    "    with torch.no_grad():\n",
    "        for (img, label_target, bbox_target) in val_dataloader:\n",
    "            img, label_target, bbox_target = img.to(device), label_target.to(device), bbox_target.to(device)\n",
    "            \n",
    "            label_out, bbox_out = model(img)\n",
    "            bbox_out = convert_to_corner(bbox_out)\n",
    "            bbox_target = convert_to_corner(bbox_target)     \n",
    "            \n",
    "            IoUs = compute_IoU(bbox_out, bbox_target)\n",
    "            label_predict = torch.argmax(label_out, dim=1)\n",
    "            \n",
    "            TP += (IoUs >= iou_threshold) & (label_predict == label_target).sum().item()\n",
    "            FP += ((IoUs < iou_threshold) | (label_predict != label_target)).sum().item()\n",
    "            FN += ((IoUs < iou_threshold) & (label_predict == label_target)).sum().item()\n",
    "            \n",
    "    accuracy = TP / (TP + FP + FN)\n",
    "    return accuracy"
   ]
  },
  {
   "cell_type": "code",
   "execution_count": null,
   "metadata": {
    "execution": {
     "iopub.execute_input": "2024-11-17T15:56:52.901644Z",
     "iopub.status.busy": "2024-11-17T15:56:52.901248Z",
     "iopub.status.idle": "2024-11-17T15:56:52.910241Z",
     "shell.execute_reply": "2024-11-17T15:56:52.909185Z",
     "shell.execute_reply.started": "2024-11-17T15:56:52.901606Z"
    },
    "trusted": true
   },
   "outputs": [],
   "source": [
    "def find_best_threshold(model, val_dataloader, device, min=30, max=71):\n",
    "    accuracy_arr = []\n",
    "    best_accuracy = 0\n",
    "    best_iou = None\n",
    "    for i in tqdm(range(min, max+1, 1), colour=\"red\"):\n",
    "        iou_threshold = i / 100\n",
    "        accuracy = 100 * get_accuracy(model, val_dataloader, device, iou_threshold=iou_threshold)\n",
    "        accuracy_arr.append(accuracy)\n",
    "        \n",
    "        if accuracy > best_accuracy:\n",
    "            best_accuracy = accuracy\n",
    "            best_iou = iou_threshold\n",
    "\n",
    "    threshold_arr = range(min, max+1)\n",
    "\n",
    "    plt.figure(figsize=(15, 5))\n",
    "    plt.plot(threshold_arr, accuracy_arr, label='Validation Accuracy ', marker='o')\n",
    "    plt.plot(best_iou, best_accuracy, 'ro', markersize=10, label='Best accuracy')\n",
    "    plt.title('Accuracy according to IoU-threshold')\n",
    "    plt.xlabel('IoU')\n",
    "    plt.ylabel('Accuracy')\n",
    "    plt.legend()\n",
    "    plt.grid()\n",
    "\n",
    "    plt.show()\n",
    "\n",
    "    print(f\"IoU = {best_iou} for best Val_accuray = {best_accuracy:.4f}%\")\n",
    "    return best_iou"
   ]
  },
  {
   "cell_type": "code",
   "execution_count": 101,
   "metadata": {
    "collapsed": true,
    "execution": {
     "iopub.execute_input": "2024-11-17T15:56:54.313731Z",
     "iopub.status.busy": "2024-11-17T15:56:54.313333Z",
     "iopub.status.idle": "2024-11-17T16:08:57.135652Z",
     "shell.execute_reply": "2024-11-17T16:08:57.134685Z",
     "shell.execute_reply.started": "2024-11-17T15:56:54.313694Z"
    },
    "jupyter": {
     "outputs_hidden": true
    },
    "trusted": true
   },
   "outputs": [
    {
     "name": "stderr",
     "output_type": "stream",
     "text": [
      "100%|\u001b[31m██████████\u001b[0m| 42/42 [12:02<00:00, 17.20s/it]\n"
     ]
    },
    {
     "data": {
      "image/png": "[encoded data removed]",
      "text/plain": [
       "<Figure size 1500x500 with 1 Axes>"
      ]
     },
     "metadata": {},
     "output_type": "display_data"
    },
    {
     "name": "stdout",
     "output_type": "stream",
     "text": [
      "IoU = 0.3 for best Val_accuray = 0.9462%\n"
     ]
    }
   ],
   "source": [
    "best_iou = find_best_threshold(best_model, val_dataloader, device)"
   ]
  },
  {
   "cell_type": "code",
   "execution_count": 102,
   "metadata": {
    "execution": {
     "iopub.execute_input": "2024-11-17T16:08:57.138404Z",
     "iopub.status.busy": "2024-11-17T16:08:57.137694Z",
     "iopub.status.idle": "2024-11-17T16:10:37.173245Z",
     "shell.execute_reply": "2024-11-17T16:10:37.172221Z",
     "shell.execute_reply.started": "2024-11-17T16:08:57.138355Z"
    },
    "trusted": true
   },
   "outputs": [
    {
     "name": "stdout",
     "output_type": "stream",
     "text": [
      "Accuracy on test set: 94.4143%\n"
     ]
    }
   ],
   "source": [
    "print(f\"Accuracy on test set: {100 * get_accuracy(best_model, test_dataloader, device, best_iou):.4f}%\")"
   ]
  },
  {
   "cell_type": "code",
   "execution_count": 176,
   "metadata": {
    "execution": {
     "iopub.execute_input": "2024-11-17T16:38:22.426781Z",
     "iopub.status.busy": "2024-11-17T16:38:22.426074Z",
     "iopub.status.idle": "2024-11-17T16:38:22.440120Z",
     "shell.execute_reply": "2024-11-17T16:38:22.439111Z",
     "shell.execute_reply.started": "2024-11-17T16:38:22.426739Z"
    },
    "trusted": true
   },
   "outputs": [],
   "source": [
    "def visulize_some_samples(model, test_dataloader, device, idx=50):\n",
    "    with torch.no_grad():\n",
    "        for (img, label_target, bbox_target) in test_dataloader:\n",
    "            img, label_target, bbox_target = img.to(device), label_target.to(device), bbox_target.to(device)\n",
    "        \n",
    "            img_subset = img[idx:idx+8]\n",
    "            bbox_target_subset = bbox_target[idx:idx+8]\n",
    "        \n",
    "            label_out, bbox_out = model(img_subset)\n",
    "            label_predicted = torch.argmax(label_out, dim=1)\n",
    "\n",
    "            IoUs = compute_IoU(convert_to_corner(bbox_target_subset), convert_to_corner(bbox_out))\n",
    "\n",
    "            fig, axes = plt.subplots(2, 4, figsize=(20, 10))\n",
    "            axes = axes.flatten()\n",
    "\n",
    "            for i in range(8):\n",
    "                ax = axes[i]\n",
    "                img_np = img_subset[i].cpu().numpy().transpose(1, 2, 0)\n",
    "                ax.imshow(img_np, cmap=\"gray\")\n",
    "        \n",
    "                bboxes = bbox_out[i].cpu().numpy() \n",
    "                bboxes_target = bbox_target_subset[i].cpu().numpy() \n",
    "                \n",
    "                x_target, y_target, w_target, h_target = bboxes_target\n",
    "                # x_target, y_target, w_target, h_target = int(x_target), int(y_target), int(w_target), int(h_target)\n",
    "                \n",
    "                rect1 = plt.Rectangle((x_target, y_target), w_target, h_target, fill=False, color='green', linewidth=2)\n",
    "                ax.add_patch(rect1)\n",
    "                \n",
    "                x, y, w , h = bboxes\n",
    "                # x, y, w, h = int(x), int(y), int(w), int(h)\n",
    "                rect2 = plt.Rectangle((x, y), w, h, fill=False, color='red', linewidth=2)\n",
    "                ax.add_patch(rect2)\n",
    "                \n",
    "                predicted_label = label_predicted[i].cpu().numpy()\n",
    "                ax.text(x+w/3, y-0.5, f\"Predicted: {predicted_label}\", color='white', fontsize=12, verticalalignment='top', bbox=dict(facecolor='white', alpha=0.5))\n",
    "                ax.text(x+w/3, y+h, f\"IoU = {IoUs[i]:.3f}\", color='white', fontsize=12, verticalalignment='top', bbox=dict(facecolor='white', alpha=0.5))\n",
    "\n",
    "                ax.axis('off')\n",
    "    \n",
    "            plt.tight_layout()\n",
    "            plt.show()\n",
    "            break"
   ]
  },
  {
   "cell_type": "code",
   "execution_count": 177,
   "metadata": {
    "execution": {
     "iopub.execute_input": "2024-11-17T16:38:24.634016Z",
     "iopub.status.busy": "2024-11-17T16:38:24.633057Z",
     "iopub.status.idle": "2024-11-17T16:38:25.467220Z",
     "shell.execute_reply": "2024-11-17T16:38:25.466248Z",
     "shell.execute_reply.started": "2024-11-17T16:38:24.633960Z"
    },
    "trusted": true
   },
   "outputs": [
    {
     "data": {
      "image/png": "[encoded data removed]",
      "text/plain": [
       "<Figure size 2000x1000 with 8 Axes>"
      ]
     },
     "metadata": {},
     "output_type": "display_data"
    }
   ],
   "source": [
    "visulize_some_samples(best_model, test_dataloader, device)"
   ]
  }
 ],
 "metadata": {
  "kaggle": {
   "accelerator": "gpu",
   "dataSources": [
    {
     "datasetId": 5987405,
     "sourceId": 9824511,
     "sourceType": "datasetVersion"
    }
   ],
   "dockerImageVersionId": 30787,
   "isGpuEnabled": true,
   "isInternetEnabled": true,
   "language": "python",
   "sourceType": "notebook"
  },
  "kernelspec": {
   "display_name": "Python 3",
   "language": "python",
   "name": "python3"
  },
  "language_info": {
   "codemirror_mode": {
    "name": "ipython",
    "version": 3
   },
   "file_extension": ".py",
   "mimetype": "text/x-python",
   "name": "python",
   "nbconvert_exporter": "python",
   "pygments_lexer": "ipython3",
   "version": "3.10.14"
  }
 },
 "nbformat": 4,
 "nbformat_minor": 4
}
